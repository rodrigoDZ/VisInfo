{
 "cells": [
  {
   "cell_type": "markdown",
   "metadata": {},
   "source": [
    "# Grafica de Stacked Area Plot"
   ]
  },
  {
   "cell_type": "code",
   "execution_count": 240,
   "metadata": {},
   "outputs": [],
   "source": [
    "class StackedAP():\n",
    "    \"\"\"\n",
    "    Un gráfico de Stacked Area es la extensión de un gráfico de área básico para mostrar la evolución del valor \n",
    "    de varios grupos en el mismo gráfico. Los valores de cada grupo se muestran uno encima del otro.\n",
    "    Permite verificar en la misma figura la evolución tanto del total de una variable numérica,\n",
    "    como la importancia de cada grupo.\n",
    "    \n",
    "    Esta clase nos permite automatizar la configuracion de uno o varios Stacked Area Plots en un solo lienzo, \n",
    "    facilitando la debida personalizacion de cada grafico.\n",
    "    \n",
    "    Args:\n",
    "    x: es el rango del eje x de cada subplot\n",
    "    y: son los valores del eje y de cada subplot\n",
    "    param: es un diccionario que contiene todos los parametros que podemos modificar de la grafica\n",
    "    nrows: es el numero de renglones que tiene nuestra matriz de graficas\n",
    "    ncols: es el numero de columnas que tiene nuestra matriz de graficas\n",
    "    \n",
    "    \"\"\"\n",
    "    import matplotlib.pyplot as plt\n",
    "    \n",
    "    def __init__(self,x,*y,param=None, nrows=1,ncols=1):\n",
    "        if nrows>1 or ncols>1:\n",
    "            self.__x=x\n",
    "            self.__y=y[0]\n",
    "        else:\n",
    "            self.__x=x\n",
    "            self.__y=y            \n",
    "        \n",
    "        self.__nrows=nrows\n",
    "        self.__ncols=ncols\n",
    "        self.__param=param\n",
    "        \n",
    "    def plot(self):\n",
    "        \"\"\"\n",
    "        Funcion para graficar en el canvas nuestras distintas graficas\n",
    "        \"\"\"\n",
    "        fig,axes=plt.subplots(nrows=self.__nrows,ncols=self.__ncols)\n",
    "        if self.__nrows>1 or self.__ncols>1:\n",
    "            indice=0\n",
    "            for graf in axes:\n",
    "                graf.stackplot(self.__x, self.__y[indice],labels=self.__param[indice+1][\"labels\"])\n",
    "                graf.legend(loc='upper left')\n",
    "                graf.set_title(self.__param[indice+1][\"title\"])\n",
    "                graf.set_xlabel(self.__param[indice+1][\"xlabel\"])\n",
    "                graf.set_ylabel(self.__param[indice+1][\"ylabel\"])\n",
    "                plt.tight_layout()\n",
    "                indice+=1\n",
    "        else:\n",
    "            axes.stackplot(self.__x, self.__y[0],self.__param[1][\"labels\"])\n",
    "            plt.legend(loc='upper left')\n",
    "        "
   ]
  },
  {
   "cell_type": "markdown",
   "metadata": {},
   "source": [
    "Ejemplo de uso:"
   ]
  },
  {
   "cell_type": "code",
   "execution_count": 241,
   "metadata": {},
   "outputs": [
    {
     "data": {
      "image/png": "[encoded data removed]",
      "text/plain": [
       "<Figure size 432x288 with 2 Axes>"
      ]
     },
     "metadata": {
      "needs_background": "light"
     },
     "output_type": "display_data"
    }
   ],
   "source": [
    "#Rango del eje x\n",
    "x=range(1,6)\n",
    "\n",
    "#Datos del eje y en forma de matrices para posteriormente tener una matriz de matrices unica\n",
    "y1=[ [1,4,6,8,9], [2,2,7,10,12], [2,8,5,10,6] ]\n",
    "y2=[ [1,1,2,3,6], [2,3,8,10,12], [2,8,8,10,2] ]\n",
    "y=[y1,y2]\n",
    "\n",
    "#Diccionario con las configuraciones que nos interesan de cada grafico\n",
    "dicc1={\"labels\":[\"1\",\"2\",\"3\"], \"title\":\"Grafico 1\", \"xlabel\":\"rango 1\", \"ylabel\":\"y1\"}\n",
    "dicc2={\"labels\":[\"D\",\"E\",\"F\"],\"title\":\"Grafico 2\",\"xlabel\":\"rango 2\",\"ylabel\": \"y2\"}\n",
    "dicc={1:dicc1, 2:dicc2}\n",
    "\n",
    "#Creamos un objeto de la clase StackedAP, ingresando los parametros correspondientes\n",
    "grafico= StackedAP(x,y,param=dicc,ncols=2)\n",
    "\n",
    "#Graficamos\n",
    "grafico.plot()"
   ]
  },
  {
   "cell_type": "code",
   "execution_count": null,
   "metadata": {},
   "outputs": [],
   "source": []
  }
 ],
 "metadata": {
  "kernelspec": {
   "display_name": "Python 3",
   "language": "python",
   "name": "python3"
  },
  "language_info": {
   "codemirror_mode": {
    "name": "ipython",
    "version": 3
   },
   "file_extension": ".py",
   "mimetype": "text/x-python",
   "name": "python",
   "nbconvert_exporter": "python",
   "pygments_lexer": "ipython3",
   "version": "3.6.9"
  }
 },
 "nbformat": 4,
 "nbformat_minor": 4
}
